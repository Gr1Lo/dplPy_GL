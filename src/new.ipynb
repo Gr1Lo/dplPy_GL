{
 "cells": [
  {
   "cell_type": "code",
   "execution_count": 1,
   "metadata": {},
   "outputs": [
    {
     "name": "stdout",
     "output_type": "stream",
     "text": [
      "Hello world\n"
     ]
    }
   ],
   "source": [
    "print(\"Hello world\")"
   ]
  },
  {
   "cell_type": "code",
   "execution_count": 2,
   "metadata": {},
   "outputs": [
    {
     "name": "stdout",
     "output_type": "stream",
     "text": [
      "Hello world\n"
     ]
    }
   ],
   "source": [
    "print(\"Hello world\")"
   ]
  },
  {
   "cell_type": "code",
   "execution_count": 3,
   "metadata": {},
   "outputs": [
    {
     "name": "stdout",
     "output_type": "stream",
     "text": [
      "\n"
     ]
    },
    {
     "ename": "ModuleNotFoundError",
     "evalue": "No module named 'pandas'",
     "output_type": "error",
     "traceback": [
      "\u001b[1;31m---------------------------------------------------------------------------\u001b[0m",
      "\u001b[1;31mModuleNotFoundError\u001b[0m                       Traceback (most recent call last)",
      "\u001b[1;32mc:\\Users\\Ifeoluwa\\Documents\\Work stuff\\dplPy\\src\\new.ipynb Cell 3'\u001b[0m in \u001b[0;36m<cell line: 1>\u001b[1;34m()\u001b[0m\n\u001b[1;32m----> <a href='vscode-notebook-cell:/c%3A/Users/Ifeoluwa/Documents/Work%20stuff/dplPy/src/new.ipynb#ch0000002?line=0'>1</a>\u001b[0m \u001b[39mimport\u001b[39;00m \u001b[39mdplpy\u001b[39;00m \u001b[39mas\u001b[39;00m \u001b[39mdpl\u001b[39;00m\n",
      "File \u001b[1;32mc:\\Users\\Ifeoluwa\\Documents\\Work stuff\\dplPy\\src\\dplpy.py:184\u001b[0m, in \u001b[0;36m<module>\u001b[1;34m\u001b[0m\n\u001b[0;32m    <a href='file:///c%3A/Users/Ifeoluwa/Documents/Work%20stuff/dplPy/src/dplpy.py?line=179'>180</a>\u001b[0m spacing \u001b[39m=\u001b[39m \u001b[39m\"\u001b[39m\u001b[39m                               \u001b[39m\u001b[39m\"\u001b[39m\n\u001b[0;32m    <a href='file:///c%3A/Users/Ifeoluwa/Documents/Work%20stuff/dplPy/src/dplpy.py?line=181'>182</a>\u001b[0m \u001b[39m# Import definition functions from other files in the src/ path\u001b[39;00m\n\u001b[1;32m--> <a href='file:///c%3A/Users/Ifeoluwa/Documents/Work%20stuff/dplPy/src/dplpy.py?line=183'>184</a>\u001b[0m \u001b[39mfrom\u001b[39;00m \u001b[39mreaders\u001b[39;00m \u001b[39mimport\u001b[39;00m readers\n\u001b[0;32m    <a href='file:///c%3A/Users/Ifeoluwa/Documents/Work%20stuff/dplPy/src/dplpy.py?line=185'>186</a>\u001b[0m \u001b[39m# Commenting out extra features until we're ready to implement them\u001b[39;00m\n\u001b[0;32m    <a href='file:///c%3A/Users/Ifeoluwa/Documents/Work%20stuff/dplPy/src/dplpy.py?line=186'>187</a>\u001b[0m \u001b[39m# import writers\u001b[39;00m\n\u001b[0;32m    <a href='file:///c%3A/Users/Ifeoluwa/Documents/Work%20stuff/dplPy/src/dplpy.py?line=187'>188</a>\u001b[0m \u001b[39mfrom\u001b[39;00m \u001b[39msummary\u001b[39;00m \u001b[39mimport\u001b[39;00m summary\n",
      "File \u001b[1;32mc:\\Users\\Ifeoluwa\\Documents\\Work stuff\\dplPy\\src\\readers.py:45\u001b[0m, in \u001b[0;36m<module>\u001b[1;34m\u001b[0m\n\u001b[0;32m     <a href='file:///c%3A/Users/Ifeoluwa/Documents/Work%20stuff/dplPy/src/readers.py?line=42'>43</a>\u001b[0m \u001b[39mimport\u001b[39;00m \u001b[39mos\u001b[39;00m\n\u001b[0;32m     <a href='file:///c%3A/Users/Ifeoluwa/Documents/Work%20stuff/dplPy/src/readers.py?line=43'>44</a>\u001b[0m \u001b[39mimport\u001b[39;00m \u001b[39msys\u001b[39;00m\n\u001b[1;32m---> <a href='file:///c%3A/Users/Ifeoluwa/Documents/Work%20stuff/dplPy/src/readers.py?line=44'>45</a>\u001b[0m \u001b[39mimport\u001b[39;00m \u001b[39mpandas\u001b[39;00m \u001b[39mas\u001b[39;00m \u001b[39mpd\u001b[39;00m\n\u001b[0;32m     <a href='file:///c%3A/Users/Ifeoluwa/Documents/Work%20stuff/dplPy/src/readers.py?line=45'>46</a>\u001b[0m \u001b[39mimport\u001b[39;00m \u001b[39mnumpy\u001b[39;00m \u001b[39mas\u001b[39;00m \u001b[39mnp\u001b[39;00m\n\u001b[0;32m     <a href='file:///c%3A/Users/Ifeoluwa/Documents/Work%20stuff/dplPy/src/readers.py?line=47'>48</a>\u001b[0m \u001b[39mdef\u001b[39;00m \u001b[39mreaders\u001b[39m(filename):\n",
      "\u001b[1;31mModuleNotFoundError\u001b[0m: No module named 'pandas'"
     ]
    }
   ],
   "source": [
    "import dplpy as dpl"
   ]
  },
  {
   "cell_type": "code",
   "execution_count": 1,
   "metadata": {},
   "outputs": [
    {
     "name": "stdout",
     "output_type": "stream",
     "text": [
      "\n"
     ]
    },
    {
     "ename": "ImportError",
     "evalue": "cannot import name 'get_spline' from 'smoothingspline' (/mnt/c/Users/Ifeoluwa/Documents/Work stuff/dplPy/src/smoothingspline.py)",
     "output_type": "error",
     "traceback": [
      "\u001b[0;31m---------------------------------------------------------------------------\u001b[0m",
      "\u001b[0;31mImportError\u001b[0m                               Traceback (most recent call last)",
      "\u001b[1;32mc:\\Users\\Ifeoluwa\\Documents\\Work stuff\\dplPy\\src\\new.ipynb Cell 4'\u001b[0m in \u001b[0;36m<cell line: 1>\u001b[0;34m()\u001b[0m\n\u001b[0;32m----> <a href='vscode-notebook-cell:/c%3A/Users/Ifeoluwa/Documents/Work%20stuff/dplPy/src/new.ipynb#ch0000003?line=0'>1</a>\u001b[0m \u001b[39mimport\u001b[39;00m \u001b[39mdplpy\u001b[39;00m \u001b[39mas\u001b[39;00m \u001b[39mdpl\u001b[39;00m\n",
      "File \u001b[0;32m/mnt/c/Users/Ifeoluwa/Documents/Work stuff/dplPy/src/dplpy.py:192\u001b[0m, in \u001b[0;36m<module>\u001b[0;34m\u001b[0m\n\u001b[1;32m    <a href='file:///mnt/c/Users/Ifeoluwa/Documents/Work%20stuff/dplPy/src/dplpy.py?line=189'>190</a>\u001b[0m \u001b[39mfrom\u001b[39;00m \u001b[39mreport\u001b[39;00m \u001b[39mimport\u001b[39;00m report\n\u001b[1;32m    <a href='file:///mnt/c/Users/Ifeoluwa/Documents/Work%20stuff/dplPy/src/dplpy.py?line=190'>191</a>\u001b[0m \u001b[39mfrom\u001b[39;00m \u001b[39mplot\u001b[39;00m \u001b[39mimport\u001b[39;00m plot\n\u001b[0;32m--> <a href='file:///mnt/c/Users/Ifeoluwa/Documents/Work%20stuff/dplPy/src/dplpy.py?line=191'>192</a>\u001b[0m \u001b[39mfrom\u001b[39;00m \u001b[39mdetrend\u001b[39;00m \u001b[39mimport\u001b[39;00m detrend\n\u001b[1;32m    <a href='file:///mnt/c/Users/Ifeoluwa/Documents/Work%20stuff/dplPy/src/dplpy.py?line=193'>194</a>\u001b[0m \u001b[39mdef\u001b[39;00m \u001b[39mmain\u001b[39m(args\u001b[39m=\u001b[39m\u001b[39mNone\u001b[39;00m):\n\u001b[1;32m    <a href='file:///mnt/c/Users/Ifeoluwa/Documents/Work%20stuff/dplPy/src/dplpy.py?line=194'>195</a>\u001b[0m     parser \u001b[39m=\u001b[39m argparse\u001b[39m.\u001b[39mArgumentParser(description\u001b[39m=\u001b[39m\u001b[39m\"\u001b[39m\u001b[39mdplPy v0.1\u001b[39m\u001b[39m\"\u001b[39m) \u001b[39m# update version as we update packages\u001b[39;00m\n",
      "File \u001b[0;32m/mnt/c/Users/Ifeoluwa/Documents/Work stuff/dplPy/src/detrend.py:5\u001b[0m, in \u001b[0;36m<module>\u001b[0;34m\u001b[0m\n\u001b[1;32m      <a href='file:///mnt/c/Users/Ifeoluwa/Documents/Work%20stuff/dplPy/src/detrend.py?line=2'>3</a>\u001b[0m \u001b[39mimport\u001b[39;00m \u001b[39mmatplotlib\u001b[39;00m\u001b[39m.\u001b[39;00m\u001b[39mpyplot\u001b[39;00m \u001b[39mas\u001b[39;00m \u001b[39mplt\u001b[39;00m\n\u001b[1;32m      <a href='file:///mnt/c/Users/Ifeoluwa/Documents/Work%20stuff/dplPy/src/detrend.py?line=3'>4</a>\u001b[0m \u001b[39mfrom\u001b[39;00m \u001b[39mreaders\u001b[39;00m \u001b[39mimport\u001b[39;00m readers\n\u001b[0;32m----> <a href='file:///mnt/c/Users/Ifeoluwa/Documents/Work%20stuff/dplPy/src/detrend.py?line=4'>5</a>\u001b[0m \u001b[39mfrom\u001b[39;00m \u001b[39msmoothingspline\u001b[39;00m \u001b[39mimport\u001b[39;00m get_spline\n\u001b[1;32m      <a href='file:///mnt/c/Users/Ifeoluwa/Documents/Work%20stuff/dplPy/src/detrend.py?line=6'>7</a>\u001b[0m \u001b[39m# In the future, detrend will probably only take a series as input\u001b[39;00m\n\u001b[1;32m      <a href='file:///mnt/c/Users/Ifeoluwa/Documents/Work%20stuff/dplPy/src/detrend.py?line=7'>8</a>\u001b[0m \u001b[39mdef\u001b[39;00m \u001b[39mdetrend\u001b[39m(series_data):\n",
      "\u001b[0;31mImportError\u001b[0m: cannot import name 'get_spline' from 'smoothingspline' (/mnt/c/Users/Ifeoluwa/Documents/Work stuff/dplPy/src/smoothingspline.py)"
     ]
    }
   ],
   "source": [
    "import dplpy as dpl"
   ]
  },
  {
   "cell_type": "code",
   "execution_count": 3,
   "metadata": {},
   "outputs": [
    {
     "name": "stdout",
     "output_type": "stream",
     "text": [
      "\n"
     ]
    }
   ],
   "source": [
    "import dplpy as dpl"
   ]
  },
  {
   "cell_type": "code",
   "execution_count": 4,
   "metadata": {},
   "outputs": [
    {
     "name": "stdout",
     "output_type": "stream",
     "text": [
      "\n",
      "SUCCESS!\n",
      "File read as: .csv file\n",
      "\n"
     ]
    },
    {
     "data": {
      "text/html": [
       "<div>\n",
       "<style scoped>\n",
       "    .dataframe tbody tr th:only-of-type {\n",
       "        vertical-align: middle;\n",
       "    }\n",
       "\n",
       "    .dataframe tbody tr th {\n",
       "        vertical-align: top;\n",
       "    }\n",
       "\n",
       "    .dataframe thead th {\n",
       "        text-align: right;\n",
       "    }\n",
       "</style>\n",
       "<table border=\"1\" class=\"dataframe\">\n",
       "  <thead>\n",
       "    <tr style=\"text-align: right;\">\n",
       "      <th></th>\n",
       "      <th>CAM011</th>\n",
       "      <th>CAM021</th>\n",
       "      <th>CAM031</th>\n",
       "      <th>CAM032</th>\n",
       "      <th>CAM041</th>\n",
       "      <th>CAM042</th>\n",
       "      <th>CAM051</th>\n",
       "      <th>CAM061</th>\n",
       "      <th>CAM062</th>\n",
       "      <th>CAM071</th>\n",
       "      <th>...</th>\n",
       "      <th>CAM151</th>\n",
       "      <th>CAM152</th>\n",
       "      <th>CAM161</th>\n",
       "      <th>CAM162</th>\n",
       "      <th>CAM171</th>\n",
       "      <th>CAM172</th>\n",
       "      <th>CAM181</th>\n",
       "      <th>CAM191</th>\n",
       "      <th>CAM201</th>\n",
       "      <th>CAM211</th>\n",
       "    </tr>\n",
       "    <tr>\n",
       "      <th>Year</th>\n",
       "      <th></th>\n",
       "      <th></th>\n",
       "      <th></th>\n",
       "      <th></th>\n",
       "      <th></th>\n",
       "      <th></th>\n",
       "      <th></th>\n",
       "      <th></th>\n",
       "      <th></th>\n",
       "      <th></th>\n",
       "      <th></th>\n",
       "      <th></th>\n",
       "      <th></th>\n",
       "      <th></th>\n",
       "      <th></th>\n",
       "      <th></th>\n",
       "      <th></th>\n",
       "      <th></th>\n",
       "      <th></th>\n",
       "      <th></th>\n",
       "      <th></th>\n",
       "    </tr>\n",
       "  </thead>\n",
       "  <tbody>\n",
       "    <tr>\n",
       "      <th>626</th>\n",
       "      <td>NaN</td>\n",
       "      <td>NaN</td>\n",
       "      <td>NaN</td>\n",
       "      <td>NaN</td>\n",
       "      <td>NaN</td>\n",
       "      <td>NaN</td>\n",
       "      <td>NaN</td>\n",
       "      <td>NaN</td>\n",
       "      <td>NaN</td>\n",
       "      <td>NaN</td>\n",
       "      <td>...</td>\n",
       "      <td>NaN</td>\n",
       "      <td>NaN</td>\n",
       "      <td>NaN</td>\n",
       "      <td>NaN</td>\n",
       "      <td>NaN</td>\n",
       "      <td>NaN</td>\n",
       "      <td>NaN</td>\n",
       "      <td>NaN</td>\n",
       "      <td>NaN</td>\n",
       "      <td>0.17</td>\n",
       "    </tr>\n",
       "    <tr>\n",
       "      <th>627</th>\n",
       "      <td>NaN</td>\n",
       "      <td>NaN</td>\n",
       "      <td>NaN</td>\n",
       "      <td>NaN</td>\n",
       "      <td>NaN</td>\n",
       "      <td>NaN</td>\n",
       "      <td>NaN</td>\n",
       "      <td>NaN</td>\n",
       "      <td>NaN</td>\n",
       "      <td>NaN</td>\n",
       "      <td>...</td>\n",
       "      <td>NaN</td>\n",
       "      <td>NaN</td>\n",
       "      <td>NaN</td>\n",
       "      <td>NaN</td>\n",
       "      <td>NaN</td>\n",
       "      <td>NaN</td>\n",
       "      <td>NaN</td>\n",
       "      <td>NaN</td>\n",
       "      <td>NaN</td>\n",
       "      <td>0.13</td>\n",
       "    </tr>\n",
       "    <tr>\n",
       "      <th>628</th>\n",
       "      <td>NaN</td>\n",
       "      <td>NaN</td>\n",
       "      <td>NaN</td>\n",
       "      <td>NaN</td>\n",
       "      <td>NaN</td>\n",
       "      <td>NaN</td>\n",
       "      <td>NaN</td>\n",
       "      <td>NaN</td>\n",
       "      <td>NaN</td>\n",
       "      <td>NaN</td>\n",
       "      <td>...</td>\n",
       "      <td>NaN</td>\n",
       "      <td>NaN</td>\n",
       "      <td>NaN</td>\n",
       "      <td>NaN</td>\n",
       "      <td>NaN</td>\n",
       "      <td>NaN</td>\n",
       "      <td>NaN</td>\n",
       "      <td>NaN</td>\n",
       "      <td>NaN</td>\n",
       "      <td>0.14</td>\n",
       "    </tr>\n",
       "    <tr>\n",
       "      <th>629</th>\n",
       "      <td>NaN</td>\n",
       "      <td>NaN</td>\n",
       "      <td>NaN</td>\n",
       "      <td>NaN</td>\n",
       "      <td>NaN</td>\n",
       "      <td>NaN</td>\n",
       "      <td>NaN</td>\n",
       "      <td>NaN</td>\n",
       "      <td>NaN</td>\n",
       "      <td>NaN</td>\n",
       "      <td>...</td>\n",
       "      <td>NaN</td>\n",
       "      <td>NaN</td>\n",
       "      <td>NaN</td>\n",
       "      <td>NaN</td>\n",
       "      <td>NaN</td>\n",
       "      <td>NaN</td>\n",
       "      <td>NaN</td>\n",
       "      <td>NaN</td>\n",
       "      <td>NaN</td>\n",
       "      <td>0.19</td>\n",
       "    </tr>\n",
       "    <tr>\n",
       "      <th>630</th>\n",
       "      <td>NaN</td>\n",
       "      <td>NaN</td>\n",
       "      <td>NaN</td>\n",
       "      <td>NaN</td>\n",
       "      <td>NaN</td>\n",
       "      <td>NaN</td>\n",
       "      <td>NaN</td>\n",
       "      <td>NaN</td>\n",
       "      <td>NaN</td>\n",
       "      <td>NaN</td>\n",
       "      <td>...</td>\n",
       "      <td>NaN</td>\n",
       "      <td>NaN</td>\n",
       "      <td>NaN</td>\n",
       "      <td>NaN</td>\n",
       "      <td>NaN</td>\n",
       "      <td>NaN</td>\n",
       "      <td>NaN</td>\n",
       "      <td>NaN</td>\n",
       "      <td>NaN</td>\n",
       "      <td>0.22</td>\n",
       "    </tr>\n",
       "    <tr>\n",
       "      <th>...</th>\n",
       "      <td>...</td>\n",
       "      <td>...</td>\n",
       "      <td>...</td>\n",
       "      <td>...</td>\n",
       "      <td>...</td>\n",
       "      <td>...</td>\n",
       "      <td>...</td>\n",
       "      <td>...</td>\n",
       "      <td>...</td>\n",
       "      <td>...</td>\n",
       "      <td>...</td>\n",
       "      <td>...</td>\n",
       "      <td>...</td>\n",
       "      <td>...</td>\n",
       "      <td>...</td>\n",
       "      <td>...</td>\n",
       "      <td>...</td>\n",
       "      <td>...</td>\n",
       "      <td>...</td>\n",
       "      <td>...</td>\n",
       "      <td>...</td>\n",
       "    </tr>\n",
       "    <tr>\n",
       "      <th>1979</th>\n",
       "      <td>0.40</td>\n",
       "      <td>0.42</td>\n",
       "      <td>0.33</td>\n",
       "      <td>0.61</td>\n",
       "      <td>0.75</td>\n",
       "      <td>0.50</td>\n",
       "      <td>0.25</td>\n",
       "      <td>0.42</td>\n",
       "      <td>0.58</td>\n",
       "      <td>0.11</td>\n",
       "      <td>...</td>\n",
       "      <td>NaN</td>\n",
       "      <td>NaN</td>\n",
       "      <td>NaN</td>\n",
       "      <td>NaN</td>\n",
       "      <td>NaN</td>\n",
       "      <td>NaN</td>\n",
       "      <td>NaN</td>\n",
       "      <td>NaN</td>\n",
       "      <td>NaN</td>\n",
       "      <td>NaN</td>\n",
       "    </tr>\n",
       "    <tr>\n",
       "      <th>1980</th>\n",
       "      <td>0.45</td>\n",
       "      <td>0.59</td>\n",
       "      <td>0.77</td>\n",
       "      <td>0.67</td>\n",
       "      <td>1.09</td>\n",
       "      <td>0.65</td>\n",
       "      <td>0.36</td>\n",
       "      <td>0.69</td>\n",
       "      <td>0.71</td>\n",
       "      <td>0.14</td>\n",
       "      <td>...</td>\n",
       "      <td>NaN</td>\n",
       "      <td>NaN</td>\n",
       "      <td>NaN</td>\n",
       "      <td>NaN</td>\n",
       "      <td>NaN</td>\n",
       "      <td>NaN</td>\n",
       "      <td>NaN</td>\n",
       "      <td>NaN</td>\n",
       "      <td>NaN</td>\n",
       "      <td>NaN</td>\n",
       "    </tr>\n",
       "    <tr>\n",
       "      <th>1981</th>\n",
       "      <td>0.48</td>\n",
       "      <td>0.57</td>\n",
       "      <td>0.69</td>\n",
       "      <td>0.55</td>\n",
       "      <td>0.76</td>\n",
       "      <td>0.56</td>\n",
       "      <td>0.32</td>\n",
       "      <td>0.64</td>\n",
       "      <td>0.51</td>\n",
       "      <td>0.27</td>\n",
       "      <td>...</td>\n",
       "      <td>NaN</td>\n",
       "      <td>NaN</td>\n",
       "      <td>NaN</td>\n",
       "      <td>NaN</td>\n",
       "      <td>NaN</td>\n",
       "      <td>NaN</td>\n",
       "      <td>NaN</td>\n",
       "      <td>NaN</td>\n",
       "      <td>NaN</td>\n",
       "      <td>NaN</td>\n",
       "    </tr>\n",
       "    <tr>\n",
       "      <th>1982</th>\n",
       "      <td>0.47</td>\n",
       "      <td>0.50</td>\n",
       "      <td>0.76</td>\n",
       "      <td>0.71</td>\n",
       "      <td>1.02</td>\n",
       "      <td>0.59</td>\n",
       "      <td>0.25</td>\n",
       "      <td>0.67</td>\n",
       "      <td>0.57</td>\n",
       "      <td>0.30</td>\n",
       "      <td>...</td>\n",
       "      <td>NaN</td>\n",
       "      <td>NaN</td>\n",
       "      <td>NaN</td>\n",
       "      <td>NaN</td>\n",
       "      <td>NaN</td>\n",
       "      <td>NaN</td>\n",
       "      <td>NaN</td>\n",
       "      <td>NaN</td>\n",
       "      <td>NaN</td>\n",
       "      <td>NaN</td>\n",
       "    </tr>\n",
       "    <tr>\n",
       "      <th>1983</th>\n",
       "      <td>0.68</td>\n",
       "      <td>0.57</td>\n",
       "      <td>0.53</td>\n",
       "      <td>0.58</td>\n",
       "      <td>1.16</td>\n",
       "      <td>0.59</td>\n",
       "      <td>0.22</td>\n",
       "      <td>0.70</td>\n",
       "      <td>0.37</td>\n",
       "      <td>0.32</td>\n",
       "      <td>...</td>\n",
       "      <td>NaN</td>\n",
       "      <td>NaN</td>\n",
       "      <td>NaN</td>\n",
       "      <td>NaN</td>\n",
       "      <td>NaN</td>\n",
       "      <td>NaN</td>\n",
       "      <td>NaN</td>\n",
       "      <td>NaN</td>\n",
       "      <td>NaN</td>\n",
       "      <td>NaN</td>\n",
       "    </tr>\n",
       "  </tbody>\n",
       "</table>\n",
       "<p>1358 rows × 34 columns</p>\n",
       "</div>"
      ],
      "text/plain": [
       "      CAM011  CAM021  CAM031  CAM032  CAM041  CAM042  CAM051  CAM061  CAM062  \\\n",
       "Year                                                                           \n",
       "626      NaN     NaN     NaN     NaN     NaN     NaN     NaN     NaN     NaN   \n",
       "627      NaN     NaN     NaN     NaN     NaN     NaN     NaN     NaN     NaN   \n",
       "628      NaN     NaN     NaN     NaN     NaN     NaN     NaN     NaN     NaN   \n",
       "629      NaN     NaN     NaN     NaN     NaN     NaN     NaN     NaN     NaN   \n",
       "630      NaN     NaN     NaN     NaN     NaN     NaN     NaN     NaN     NaN   \n",
       "...      ...     ...     ...     ...     ...     ...     ...     ...     ...   \n",
       "1979    0.40    0.42    0.33    0.61    0.75    0.50    0.25    0.42    0.58   \n",
       "1980    0.45    0.59    0.77    0.67    1.09    0.65    0.36    0.69    0.71   \n",
       "1981    0.48    0.57    0.69    0.55    0.76    0.56    0.32    0.64    0.51   \n",
       "1982    0.47    0.50    0.76    0.71    1.02    0.59    0.25    0.67    0.57   \n",
       "1983    0.68    0.57    0.53    0.58    1.16    0.59    0.22    0.70    0.37   \n",
       "\n",
       "      CAM071  ...  CAM151  CAM152  CAM161  CAM162  CAM171  CAM172  CAM181  \\\n",
       "Year          ...                                                           \n",
       "626      NaN  ...     NaN     NaN     NaN     NaN     NaN     NaN     NaN   \n",
       "627      NaN  ...     NaN     NaN     NaN     NaN     NaN     NaN     NaN   \n",
       "628      NaN  ...     NaN     NaN     NaN     NaN     NaN     NaN     NaN   \n",
       "629      NaN  ...     NaN     NaN     NaN     NaN     NaN     NaN     NaN   \n",
       "630      NaN  ...     NaN     NaN     NaN     NaN     NaN     NaN     NaN   \n",
       "...      ...  ...     ...     ...     ...     ...     ...     ...     ...   \n",
       "1979    0.11  ...     NaN     NaN     NaN     NaN     NaN     NaN     NaN   \n",
       "1980    0.14  ...     NaN     NaN     NaN     NaN     NaN     NaN     NaN   \n",
       "1981    0.27  ...     NaN     NaN     NaN     NaN     NaN     NaN     NaN   \n",
       "1982    0.30  ...     NaN     NaN     NaN     NaN     NaN     NaN     NaN   \n",
       "1983    0.32  ...     NaN     NaN     NaN     NaN     NaN     NaN     NaN   \n",
       "\n",
       "      CAM191  CAM201  CAM211  \n",
       "Year                          \n",
       "626      NaN     NaN    0.17  \n",
       "627      NaN     NaN    0.13  \n",
       "628      NaN     NaN    0.14  \n",
       "629      NaN     NaN    0.19  \n",
       "630      NaN     NaN    0.22  \n",
       "...      ...     ...     ...  \n",
       "1979     NaN     NaN     NaN  \n",
       "1980     NaN     NaN     NaN  \n",
       "1981     NaN     NaN     NaN  \n",
       "1982     NaN     NaN     NaN  \n",
       "1983     NaN     NaN     NaN  \n",
       "\n",
       "[1358 rows x 34 columns]"
      ]
     },
     "execution_count": 4,
     "metadata": {},
     "output_type": "execute_result"
    }
   ],
   "source": [
    "dpl.readers(\"../tests/data/csv/ca533.csv\")"
   ]
  },
  {
   "cell_type": "code",
   "execution_count": 5,
   "metadata": {},
   "outputs": [
    {
     "name": "stdout",
     "output_type": "stream",
     "text": [
      "\n",
      "SUCCESS!\n",
      "File read as: .csv file\n",
      "\n"
     ]
    }
   ],
   "source": [
    "ca533 = dpl.readers(\"../tests/data/csv/ca533.csv\")"
   ]
  },
  {
   "cell_type": "code",
   "execution_count": 6,
   "metadata": {},
   "outputs": [],
   "source": [
    "import dplpy as dpl"
   ]
  },
  {
   "cell_type": "code",
   "execution_count": 7,
   "metadata": {},
   "outputs": [
    {
     "name": "stdout",
     "output_type": "stream",
     "text": [
      "\n",
      "SUCCESS!\n",
      "File read as: .csv file\n",
      "\n"
     ]
    }
   ],
   "source": [
    "co021 = dpl.readers(\"../tests/data/csv/co021.csv\")"
   ]
  },
  {
   "cell_type": "code",
   "execution_count": 8,
   "metadata": {},
   "outputs": [
    {
     "name": "stdout",
     "output_type": "stream",
     "text": [
      "      X641114  X641121  X641132  X641143  X642114  X642121  X642143  X642211  \\\n",
      "Year                                                                           \n",
      "1176      NaN      NaN      NaN      NaN      NaN      NaN      NaN      NaN   \n",
      "1177      NaN      NaN      NaN      NaN      NaN      NaN      NaN      NaN   \n",
      "1178      NaN      NaN      NaN      NaN      NaN      NaN      NaN      NaN   \n",
      "1179      NaN      NaN      NaN      NaN      NaN      NaN      NaN      NaN   \n",
      "1180      NaN      NaN      NaN      NaN      NaN      NaN      NaN      NaN   \n",
      "...       ...      ...      ...      ...      ...      ...      ...      ...   \n",
      "1959     0.04     0.10     0.07     0.07     0.05     0.02     0.07     0.00   \n",
      "1960     0.32     0.26     0.31     0.30     0.18     0.23     0.28     0.49   \n",
      "1961     0.17     0.22     0.26     0.21     0.18     0.17     0.19     0.38   \n",
      "1962     0.21     0.21     0.17     0.18     0.13     0.16     0.22     0.13   \n",
      "1963     0.24     0.21     0.19     0.16     0.13     0.16     0.23     0.23   \n",
      "\n",
      "      X642222  X642233  ...  X645214  X645221  X645232  X645243  X646107  \\\n",
      "Year                    ...                                                \n",
      "1176      NaN      NaN  ...      NaN      NaN      NaN      NaN      NaN   \n",
      "1177      NaN      NaN  ...      NaN      NaN      NaN      NaN      NaN   \n",
      "1178      NaN      NaN  ...      NaN      NaN      NaN      NaN      NaN   \n",
      "1179      NaN      NaN  ...      NaN      NaN      NaN      NaN      NaN   \n",
      "1180      NaN      NaN  ...      NaN      NaN      NaN      NaN      NaN   \n",
      "...       ...      ...  ...      ...      ...      ...      ...      ...   \n",
      "1959     0.04     0.00  ...     0.00     0.04      NaN     0.00      NaN   \n",
      "1960     0.54     0.36  ...     0.32     0.34      NaN     0.42      NaN   \n",
      "1961     0.39     0.17  ...     0.18     0.18      NaN     0.20      NaN   \n",
      "1962     0.20     0.14  ...     0.13     0.15      NaN     0.13      NaN   \n",
      "1963     0.27     0.23  ...     0.16     0.12      NaN     0.13      NaN   \n",
      "\n",
      "      X646118  X646211  X646222  X646233  X646244  \n",
      "Year                                               \n",
      "1176     0.42      NaN      NaN      NaN      NaN  \n",
      "1177     0.37      NaN      NaN      NaN      NaN  \n",
      "1178     0.39      NaN      NaN      NaN      NaN  \n",
      "1179     0.33      NaN      NaN      NaN      NaN  \n",
      "1180     0.52      NaN      NaN      NaN      NaN  \n",
      "...       ...      ...      ...      ...      ...  \n",
      "1959      NaN     0.04     0.00     0.00     0.00  \n",
      "1960      NaN     0.51     0.47     0.42     0.33  \n",
      "1961      NaN     0.24     0.20     0.20     0.18  \n",
      "1962      NaN     0.19     0.20     0.17     0.12  \n",
      "1963      NaN     0.21     0.16     0.17     0.11  \n",
      "\n",
      "[788 rows x 35 columns]\n"
     ]
    }
   ],
   "source": [
    "print(co021)"
   ]
  },
  {
   "cell_type": "code",
   "execution_count": 9,
   "metadata": {},
   "outputs": [],
   "source": [
    "dpl.detrend(co021)"
   ]
  },
  {
   "cell_type": "code",
   "execution_count": 10,
   "metadata": {},
   "outputs": [],
   "source": [
    "import dplpy as dpl"
   ]
  },
  {
   "cell_type": "code",
   "execution_count": 11,
   "metadata": {},
   "outputs": [
    {
     "name": "stdout",
     "output_type": "stream",
     "text": [
      "\n",
      "SUCCESS!\n",
      "File read as: .csv file\n",
      "\n"
     ]
    }
   ],
   "source": [
    "ca533 = dpl.readers(\"../tests/data/csv/ca533.csv\")"
   ]
  },
  {
   "cell_type": "code",
   "execution_count": 12,
   "metadata": {},
   "outputs": [],
   "source": [
    "dpl.detrend(ca533)"
   ]
  },
  {
   "cell_type": "code",
   "execution_count": 13,
   "metadata": {},
   "outputs": [],
   "source": [
    "import dplpy as dpl"
   ]
  },
  {
   "cell_type": "code",
   "execution_count": 14,
   "metadata": {},
   "outputs": [
    {
     "name": "stdout",
     "output_type": "stream",
     "text": [
      "\n",
      "SUCCESS!\n",
      "File read as: .csv file\n",
      "\n"
     ]
    }
   ],
   "source": [
    "ca533 = dpl.readers(\"../tests/data/csv/ca533.csv\")"
   ]
  },
  {
   "cell_type": "code",
   "execution_count": 15,
   "metadata": {},
   "outputs": [],
   "source": [
    "dpl.detrend(ca533)"
   ]
  },
  {
   "cell_type": "code",
   "execution_count": 16,
   "metadata": {},
   "outputs": [],
   "source": [
    "import dplpy as dpl"
   ]
  },
  {
   "cell_type": "code",
   "execution_count": 17,
   "metadata": {},
   "outputs": [
    {
     "ename": "FileNotFoundError",
     "evalue": "[Errno 2] No such file or directory: '../tests/csv/ca533.csv'",
     "output_type": "error",
     "traceback": [
      "\u001b[0;31m---------------------------------------------------------------------------\u001b[0m",
      "\u001b[0;31mFileNotFoundError\u001b[0m                         Traceback (most recent call last)",
      "\u001b[1;32mc:\\Users\\Ifeoluwa\\Documents\\Work stuff\\dplPy\\src\\new.ipynb Cell 19'\u001b[0m in \u001b[0;36m<cell line: 1>\u001b[0;34m()\u001b[0m\n\u001b[0;32m----> <a href='vscode-notebook-cell:/c%3A/Users/Ifeoluwa/Documents/Work%20stuff/dplPy/src/new.ipynb#ch0000018?line=0'>1</a>\u001b[0m ca533 \u001b[39m=\u001b[39m dpl\u001b[39m.\u001b[39;49mreaders(\u001b[39m\"\u001b[39;49m\u001b[39m../tests/csv/ca533.csv\u001b[39;49m\u001b[39m\"\u001b[39;49m)\n",
      "File \u001b[0;32m/mnt/c/Users/Ifeoluwa/Documents/Work stuff/dplPy/src/readers.py:59\u001b[0m, in \u001b[0;36mreaders\u001b[0;34m(filename)\u001b[0m\n\u001b[1;32m     <a href='file:///mnt/c/Users/Ifeoluwa/Documents/Work%20stuff/dplPy/src/readers.py?line=56'>57</a>\u001b[0m \u001b[39mif\u001b[39;00m filename\u001b[39m.\u001b[39mupper()\u001b[39m.\u001b[39mendswith(\u001b[39m\"\u001b[39m\u001b[39m.CSV\u001b[39m\u001b[39m\"\u001b[39m):\n\u001b[1;32m     <a href='file:///mnt/c/Users/Ifeoluwa/Documents/Work%20stuff/dplPy/src/readers.py?line=57'>58</a>\u001b[0m     \u001b[39mtry\u001b[39;00m:\n\u001b[0;32m---> <a href='file:///mnt/c/Users/Ifeoluwa/Documents/Work%20stuff/dplPy/src/readers.py?line=58'>59</a>\u001b[0m         series_data \u001b[39m=\u001b[39m pd\u001b[39m.\u001b[39;49mread_csv(filename)\n\u001b[1;32m     <a href='file:///mnt/c/Users/Ifeoluwa/Documents/Work%20stuff/dplPy/src/readers.py?line=59'>60</a>\u001b[0m     \u001b[39mexcept\u001b[39;00m \u001b[39mValueError\u001b[39;00m:\n\u001b[1;32m     <a href='file:///mnt/c/Users/Ifeoluwa/Documents/Work%20stuff/dplPy/src/readers.py?line=60'>61</a>\u001b[0m         \u001b[39mprint\u001b[39m(\u001b[39m\"\u001b[39m\u001b[39m\\n\u001b[39;00m\u001b[39mError reading file. Check that file exists and that data is consistent\u001b[39m\u001b[39m\"\u001b[39m)\n",
      "File \u001b[0;32m~/miniconda3/envs/dplpy3/lib/python3.8/site-packages/pandas/util/_decorators.py:311\u001b[0m, in \u001b[0;36mdeprecate_nonkeyword_arguments.<locals>.decorate.<locals>.wrapper\u001b[0;34m(*args, **kwargs)\u001b[0m\n\u001b[1;32m    <a href='file:///c%3A/Users/Ifeoluwa/miniconda3/envs/dplpy3/lib/python3.8/site-packages/pandas/util/_decorators.py?line=304'>305</a>\u001b[0m \u001b[39mif\u001b[39;00m \u001b[39mlen\u001b[39m(args) \u001b[39m>\u001b[39m num_allow_args:\n\u001b[1;32m    <a href='file:///c%3A/Users/Ifeoluwa/miniconda3/envs/dplpy3/lib/python3.8/site-packages/pandas/util/_decorators.py?line=305'>306</a>\u001b[0m     warnings\u001b[39m.\u001b[39mwarn(\n\u001b[1;32m    <a href='file:///c%3A/Users/Ifeoluwa/miniconda3/envs/dplpy3/lib/python3.8/site-packages/pandas/util/_decorators.py?line=306'>307</a>\u001b[0m         msg\u001b[39m.\u001b[39mformat(arguments\u001b[39m=\u001b[39marguments),\n\u001b[1;32m    <a href='file:///c%3A/Users/Ifeoluwa/miniconda3/envs/dplpy3/lib/python3.8/site-packages/pandas/util/_decorators.py?line=307'>308</a>\u001b[0m         \u001b[39mFutureWarning\u001b[39;00m,\n\u001b[1;32m    <a href='file:///c%3A/Users/Ifeoluwa/miniconda3/envs/dplpy3/lib/python3.8/site-packages/pandas/util/_decorators.py?line=308'>309</a>\u001b[0m         stacklevel\u001b[39m=\u001b[39mstacklevel,\n\u001b[1;32m    <a href='file:///c%3A/Users/Ifeoluwa/miniconda3/envs/dplpy3/lib/python3.8/site-packages/pandas/util/_decorators.py?line=309'>310</a>\u001b[0m     )\n\u001b[0;32m--> <a href='file:///c%3A/Users/Ifeoluwa/miniconda3/envs/dplpy3/lib/python3.8/site-packages/pandas/util/_decorators.py?line=310'>311</a>\u001b[0m \u001b[39mreturn\u001b[39;00m func(\u001b[39m*\u001b[39;49margs, \u001b[39m*\u001b[39;49m\u001b[39m*\u001b[39;49mkwargs)\n",
      "File \u001b[0;32m~/miniconda3/envs/dplpy3/lib/python3.8/site-packages/pandas/io/parsers/readers.py:586\u001b[0m, in \u001b[0;36mread_csv\u001b[0;34m(filepath_or_buffer, sep, delimiter, header, names, index_col, usecols, squeeze, prefix, mangle_dupe_cols, dtype, engine, converters, true_values, false_values, skipinitialspace, skiprows, skipfooter, nrows, na_values, keep_default_na, na_filter, verbose, skip_blank_lines, parse_dates, infer_datetime_format, keep_date_col, date_parser, dayfirst, cache_dates, iterator, chunksize, compression, thousands, decimal, lineterminator, quotechar, quoting, doublequote, escapechar, comment, encoding, encoding_errors, dialect, error_bad_lines, warn_bad_lines, on_bad_lines, delim_whitespace, low_memory, memory_map, float_precision, storage_options)\u001b[0m\n\u001b[1;32m    <a href='file:///c%3A/Users/Ifeoluwa/miniconda3/envs/dplpy3/lib/python3.8/site-packages/pandas/io/parsers/readers.py?line=570'>571</a>\u001b[0m kwds_defaults \u001b[39m=\u001b[39m _refine_defaults_read(\n\u001b[1;32m    <a href='file:///c%3A/Users/Ifeoluwa/miniconda3/envs/dplpy3/lib/python3.8/site-packages/pandas/io/parsers/readers.py?line=571'>572</a>\u001b[0m     dialect,\n\u001b[1;32m    <a href='file:///c%3A/Users/Ifeoluwa/miniconda3/envs/dplpy3/lib/python3.8/site-packages/pandas/io/parsers/readers.py?line=572'>573</a>\u001b[0m     delimiter,\n\u001b[0;32m   (...)\u001b[0m\n\u001b[1;32m    <a href='file:///c%3A/Users/Ifeoluwa/miniconda3/envs/dplpy3/lib/python3.8/site-packages/pandas/io/parsers/readers.py?line=581'>582</a>\u001b[0m     defaults\u001b[39m=\u001b[39m{\u001b[39m\"\u001b[39m\u001b[39mdelimiter\u001b[39m\u001b[39m\"\u001b[39m: \u001b[39m\"\u001b[39m\u001b[39m,\u001b[39m\u001b[39m\"\u001b[39m},\n\u001b[1;32m    <a href='file:///c%3A/Users/Ifeoluwa/miniconda3/envs/dplpy3/lib/python3.8/site-packages/pandas/io/parsers/readers.py?line=582'>583</a>\u001b[0m )\n\u001b[1;32m    <a href='file:///c%3A/Users/Ifeoluwa/miniconda3/envs/dplpy3/lib/python3.8/site-packages/pandas/io/parsers/readers.py?line=583'>584</a>\u001b[0m kwds\u001b[39m.\u001b[39mupdate(kwds_defaults)\n\u001b[0;32m--> <a href='file:///c%3A/Users/Ifeoluwa/miniconda3/envs/dplpy3/lib/python3.8/site-packages/pandas/io/parsers/readers.py?line=585'>586</a>\u001b[0m \u001b[39mreturn\u001b[39;00m _read(filepath_or_buffer, kwds)\n",
      "File \u001b[0;32m~/miniconda3/envs/dplpy3/lib/python3.8/site-packages/pandas/io/parsers/readers.py:482\u001b[0m, in \u001b[0;36m_read\u001b[0;34m(filepath_or_buffer, kwds)\u001b[0m\n\u001b[1;32m    <a href='file:///c%3A/Users/Ifeoluwa/miniconda3/envs/dplpy3/lib/python3.8/site-packages/pandas/io/parsers/readers.py?line=478'>479</a>\u001b[0m _validate_names(kwds\u001b[39m.\u001b[39mget(\u001b[39m\"\u001b[39m\u001b[39mnames\u001b[39m\u001b[39m\"\u001b[39m, \u001b[39mNone\u001b[39;00m))\n\u001b[1;32m    <a href='file:///c%3A/Users/Ifeoluwa/miniconda3/envs/dplpy3/lib/python3.8/site-packages/pandas/io/parsers/readers.py?line=480'>481</a>\u001b[0m \u001b[39m# Create the parser.\u001b[39;00m\n\u001b[0;32m--> <a href='file:///c%3A/Users/Ifeoluwa/miniconda3/envs/dplpy3/lib/python3.8/site-packages/pandas/io/parsers/readers.py?line=481'>482</a>\u001b[0m parser \u001b[39m=\u001b[39m TextFileReader(filepath_or_buffer, \u001b[39m*\u001b[39;49m\u001b[39m*\u001b[39;49mkwds)\n\u001b[1;32m    <a href='file:///c%3A/Users/Ifeoluwa/miniconda3/envs/dplpy3/lib/python3.8/site-packages/pandas/io/parsers/readers.py?line=483'>484</a>\u001b[0m \u001b[39mif\u001b[39;00m chunksize \u001b[39mor\u001b[39;00m iterator:\n\u001b[1;32m    <a href='file:///c%3A/Users/Ifeoluwa/miniconda3/envs/dplpy3/lib/python3.8/site-packages/pandas/io/parsers/readers.py?line=484'>485</a>\u001b[0m     \u001b[39mreturn\u001b[39;00m parser\n",
      "File \u001b[0;32m~/miniconda3/envs/dplpy3/lib/python3.8/site-packages/pandas/io/parsers/readers.py:811\u001b[0m, in \u001b[0;36mTextFileReader.__init__\u001b[0;34m(self, f, engine, **kwds)\u001b[0m\n\u001b[1;32m    <a href='file:///c%3A/Users/Ifeoluwa/miniconda3/envs/dplpy3/lib/python3.8/site-packages/pandas/io/parsers/readers.py?line=807'>808</a>\u001b[0m \u001b[39mif\u001b[39;00m \u001b[39m\"\u001b[39m\u001b[39mhas_index_names\u001b[39m\u001b[39m\"\u001b[39m \u001b[39min\u001b[39;00m kwds:\n\u001b[1;32m    <a href='file:///c%3A/Users/Ifeoluwa/miniconda3/envs/dplpy3/lib/python3.8/site-packages/pandas/io/parsers/readers.py?line=808'>809</a>\u001b[0m     \u001b[39mself\u001b[39m\u001b[39m.\u001b[39moptions[\u001b[39m\"\u001b[39m\u001b[39mhas_index_names\u001b[39m\u001b[39m\"\u001b[39m] \u001b[39m=\u001b[39m kwds[\u001b[39m\"\u001b[39m\u001b[39mhas_index_names\u001b[39m\u001b[39m\"\u001b[39m]\n\u001b[0;32m--> <a href='file:///c%3A/Users/Ifeoluwa/miniconda3/envs/dplpy3/lib/python3.8/site-packages/pandas/io/parsers/readers.py?line=810'>811</a>\u001b[0m \u001b[39mself\u001b[39m\u001b[39m.\u001b[39m_engine \u001b[39m=\u001b[39m \u001b[39mself\u001b[39;49m\u001b[39m.\u001b[39;49m_make_engine(\u001b[39mself\u001b[39;49m\u001b[39m.\u001b[39;49mengine)\n",
      "File \u001b[0;32m~/miniconda3/envs/dplpy3/lib/python3.8/site-packages/pandas/io/parsers/readers.py:1040\u001b[0m, in \u001b[0;36mTextFileReader._make_engine\u001b[0;34m(self, engine)\u001b[0m\n\u001b[1;32m   <a href='file:///c%3A/Users/Ifeoluwa/miniconda3/envs/dplpy3/lib/python3.8/site-packages/pandas/io/parsers/readers.py?line=1035'>1036</a>\u001b[0m     \u001b[39mraise\u001b[39;00m \u001b[39mValueError\u001b[39;00m(\n\u001b[1;32m   <a href='file:///c%3A/Users/Ifeoluwa/miniconda3/envs/dplpy3/lib/python3.8/site-packages/pandas/io/parsers/readers.py?line=1036'>1037</a>\u001b[0m         \u001b[39mf\u001b[39m\u001b[39m\"\u001b[39m\u001b[39mUnknown engine: \u001b[39m\u001b[39m{\u001b[39;00mengine\u001b[39m}\u001b[39;00m\u001b[39m (valid options are \u001b[39m\u001b[39m{\u001b[39;00mmapping\u001b[39m.\u001b[39mkeys()\u001b[39m}\u001b[39;00m\u001b[39m)\u001b[39m\u001b[39m\"\u001b[39m\n\u001b[1;32m   <a href='file:///c%3A/Users/Ifeoluwa/miniconda3/envs/dplpy3/lib/python3.8/site-packages/pandas/io/parsers/readers.py?line=1037'>1038</a>\u001b[0m     )\n\u001b[1;32m   <a href='file:///c%3A/Users/Ifeoluwa/miniconda3/envs/dplpy3/lib/python3.8/site-packages/pandas/io/parsers/readers.py?line=1038'>1039</a>\u001b[0m \u001b[39m# error: Too many arguments for \"ParserBase\"\u001b[39;00m\n\u001b[0;32m-> <a href='file:///c%3A/Users/Ifeoluwa/miniconda3/envs/dplpy3/lib/python3.8/site-packages/pandas/io/parsers/readers.py?line=1039'>1040</a>\u001b[0m \u001b[39mreturn\u001b[39;00m mapping[engine](\u001b[39mself\u001b[39;49m\u001b[39m.\u001b[39;49mf, \u001b[39m*\u001b[39;49m\u001b[39m*\u001b[39;49m\u001b[39mself\u001b[39;49m\u001b[39m.\u001b[39;49moptions)\n",
      "File \u001b[0;32m~/miniconda3/envs/dplpy3/lib/python3.8/site-packages/pandas/io/parsers/c_parser_wrapper.py:51\u001b[0m, in \u001b[0;36mCParserWrapper.__init__\u001b[0;34m(self, src, **kwds)\u001b[0m\n\u001b[1;32m     <a href='file:///c%3A/Users/Ifeoluwa/miniconda3/envs/dplpy3/lib/python3.8/site-packages/pandas/io/parsers/c_parser_wrapper.py?line=47'>48</a>\u001b[0m kwds[\u001b[39m\"\u001b[39m\u001b[39musecols\u001b[39m\u001b[39m\"\u001b[39m] \u001b[39m=\u001b[39m \u001b[39mself\u001b[39m\u001b[39m.\u001b[39musecols\n\u001b[1;32m     <a href='file:///c%3A/Users/Ifeoluwa/miniconda3/envs/dplpy3/lib/python3.8/site-packages/pandas/io/parsers/c_parser_wrapper.py?line=49'>50</a>\u001b[0m \u001b[39m# open handles\u001b[39;00m\n\u001b[0;32m---> <a href='file:///c%3A/Users/Ifeoluwa/miniconda3/envs/dplpy3/lib/python3.8/site-packages/pandas/io/parsers/c_parser_wrapper.py?line=50'>51</a>\u001b[0m \u001b[39mself\u001b[39;49m\u001b[39m.\u001b[39;49m_open_handles(src, kwds)\n\u001b[1;32m     <a href='file:///c%3A/Users/Ifeoluwa/miniconda3/envs/dplpy3/lib/python3.8/site-packages/pandas/io/parsers/c_parser_wrapper.py?line=51'>52</a>\u001b[0m \u001b[39massert\u001b[39;00m \u001b[39mself\u001b[39m\u001b[39m.\u001b[39mhandles \u001b[39mis\u001b[39;00m \u001b[39mnot\u001b[39;00m \u001b[39mNone\u001b[39;00m\n\u001b[1;32m     <a href='file:///c%3A/Users/Ifeoluwa/miniconda3/envs/dplpy3/lib/python3.8/site-packages/pandas/io/parsers/c_parser_wrapper.py?line=53'>54</a>\u001b[0m \u001b[39m# Have to pass int, would break tests using TextReader directly otherwise :(\u001b[39;00m\n",
      "File \u001b[0;32m~/miniconda3/envs/dplpy3/lib/python3.8/site-packages/pandas/io/parsers/base_parser.py:222\u001b[0m, in \u001b[0;36mParserBase._open_handles\u001b[0;34m(self, src, kwds)\u001b[0m\n\u001b[1;32m    <a href='file:///c%3A/Users/Ifeoluwa/miniconda3/envs/dplpy3/lib/python3.8/site-packages/pandas/io/parsers/base_parser.py?line=217'>218</a>\u001b[0m \u001b[39mdef\u001b[39;00m \u001b[39m_open_handles\u001b[39m(\u001b[39mself\u001b[39m, src: FilePathOrBuffer, kwds: \u001b[39mdict\u001b[39m[\u001b[39mstr\u001b[39m, Any]) \u001b[39m-\u001b[39m\u001b[39m>\u001b[39m \u001b[39mNone\u001b[39;00m:\n\u001b[1;32m    <a href='file:///c%3A/Users/Ifeoluwa/miniconda3/envs/dplpy3/lib/python3.8/site-packages/pandas/io/parsers/base_parser.py?line=218'>219</a>\u001b[0m     \u001b[39m\"\"\"\u001b[39;00m\n\u001b[1;32m    <a href='file:///c%3A/Users/Ifeoluwa/miniconda3/envs/dplpy3/lib/python3.8/site-packages/pandas/io/parsers/base_parser.py?line=219'>220</a>\u001b[0m \u001b[39m    Let the readers open IOHandles after they are done with their potential raises.\u001b[39;00m\n\u001b[1;32m    <a href='file:///c%3A/Users/Ifeoluwa/miniconda3/envs/dplpy3/lib/python3.8/site-packages/pandas/io/parsers/base_parser.py?line=220'>221</a>\u001b[0m \u001b[39m    \"\"\"\u001b[39;00m\n\u001b[0;32m--> <a href='file:///c%3A/Users/Ifeoluwa/miniconda3/envs/dplpy3/lib/python3.8/site-packages/pandas/io/parsers/base_parser.py?line=221'>222</a>\u001b[0m     \u001b[39mself\u001b[39m\u001b[39m.\u001b[39mhandles \u001b[39m=\u001b[39m get_handle(\n\u001b[1;32m    <a href='file:///c%3A/Users/Ifeoluwa/miniconda3/envs/dplpy3/lib/python3.8/site-packages/pandas/io/parsers/base_parser.py?line=222'>223</a>\u001b[0m         src,\n\u001b[1;32m    <a href='file:///c%3A/Users/Ifeoluwa/miniconda3/envs/dplpy3/lib/python3.8/site-packages/pandas/io/parsers/base_parser.py?line=223'>224</a>\u001b[0m         \u001b[39m\"\u001b[39;49m\u001b[39mr\u001b[39;49m\u001b[39m\"\u001b[39;49m,\n\u001b[1;32m    <a href='file:///c%3A/Users/Ifeoluwa/miniconda3/envs/dplpy3/lib/python3.8/site-packages/pandas/io/parsers/base_parser.py?line=224'>225</a>\u001b[0m         encoding\u001b[39m=\u001b[39;49mkwds\u001b[39m.\u001b[39;49mget(\u001b[39m\"\u001b[39;49m\u001b[39mencoding\u001b[39;49m\u001b[39m\"\u001b[39;49m, \u001b[39mNone\u001b[39;49;00m),\n\u001b[1;32m    <a href='file:///c%3A/Users/Ifeoluwa/miniconda3/envs/dplpy3/lib/python3.8/site-packages/pandas/io/parsers/base_parser.py?line=225'>226</a>\u001b[0m         compression\u001b[39m=\u001b[39;49mkwds\u001b[39m.\u001b[39;49mget(\u001b[39m\"\u001b[39;49m\u001b[39mcompression\u001b[39;49m\u001b[39m\"\u001b[39;49m, \u001b[39mNone\u001b[39;49;00m),\n\u001b[1;32m    <a href='file:///c%3A/Users/Ifeoluwa/miniconda3/envs/dplpy3/lib/python3.8/site-packages/pandas/io/parsers/base_parser.py?line=226'>227</a>\u001b[0m         memory_map\u001b[39m=\u001b[39;49mkwds\u001b[39m.\u001b[39;49mget(\u001b[39m\"\u001b[39;49m\u001b[39mmemory_map\u001b[39;49m\u001b[39m\"\u001b[39;49m, \u001b[39mFalse\u001b[39;49;00m),\n\u001b[1;32m    <a href='file:///c%3A/Users/Ifeoluwa/miniconda3/envs/dplpy3/lib/python3.8/site-packages/pandas/io/parsers/base_parser.py?line=227'>228</a>\u001b[0m         storage_options\u001b[39m=\u001b[39;49mkwds\u001b[39m.\u001b[39;49mget(\u001b[39m\"\u001b[39;49m\u001b[39mstorage_options\u001b[39;49m\u001b[39m\"\u001b[39;49m, \u001b[39mNone\u001b[39;49;00m),\n\u001b[1;32m    <a href='file:///c%3A/Users/Ifeoluwa/miniconda3/envs/dplpy3/lib/python3.8/site-packages/pandas/io/parsers/base_parser.py?line=228'>229</a>\u001b[0m         errors\u001b[39m=\u001b[39;49mkwds\u001b[39m.\u001b[39;49mget(\u001b[39m\"\u001b[39;49m\u001b[39mencoding_errors\u001b[39;49m\u001b[39m\"\u001b[39;49m, \u001b[39m\"\u001b[39;49m\u001b[39mstrict\u001b[39;49m\u001b[39m\"\u001b[39;49m),\n\u001b[1;32m    <a href='file:///c%3A/Users/Ifeoluwa/miniconda3/envs/dplpy3/lib/python3.8/site-packages/pandas/io/parsers/base_parser.py?line=229'>230</a>\u001b[0m     )\n",
      "File \u001b[0;32m~/miniconda3/envs/dplpy3/lib/python3.8/site-packages/pandas/io/common.py:701\u001b[0m, in \u001b[0;36mget_handle\u001b[0;34m(path_or_buf, mode, encoding, compression, memory_map, is_text, errors, storage_options)\u001b[0m\n\u001b[1;32m    <a href='file:///c%3A/Users/Ifeoluwa/miniconda3/envs/dplpy3/lib/python3.8/site-packages/pandas/io/common.py?line=695'>696</a>\u001b[0m \u001b[39melif\u001b[39;00m \u001b[39misinstance\u001b[39m(handle, \u001b[39mstr\u001b[39m):\n\u001b[1;32m    <a href='file:///c%3A/Users/Ifeoluwa/miniconda3/envs/dplpy3/lib/python3.8/site-packages/pandas/io/common.py?line=696'>697</a>\u001b[0m     \u001b[39m# Check whether the filename is to be opened in binary mode.\u001b[39;00m\n\u001b[1;32m    <a href='file:///c%3A/Users/Ifeoluwa/miniconda3/envs/dplpy3/lib/python3.8/site-packages/pandas/io/common.py?line=697'>698</a>\u001b[0m     \u001b[39m# Binary mode does not support 'encoding' and 'newline'.\u001b[39;00m\n\u001b[1;32m    <a href='file:///c%3A/Users/Ifeoluwa/miniconda3/envs/dplpy3/lib/python3.8/site-packages/pandas/io/common.py?line=698'>699</a>\u001b[0m     \u001b[39mif\u001b[39;00m ioargs\u001b[39m.\u001b[39mencoding \u001b[39mand\u001b[39;00m \u001b[39m\"\u001b[39m\u001b[39mb\u001b[39m\u001b[39m\"\u001b[39m \u001b[39mnot\u001b[39;00m \u001b[39min\u001b[39;00m ioargs\u001b[39m.\u001b[39mmode:\n\u001b[1;32m    <a href='file:///c%3A/Users/Ifeoluwa/miniconda3/envs/dplpy3/lib/python3.8/site-packages/pandas/io/common.py?line=699'>700</a>\u001b[0m         \u001b[39m# Encoding\u001b[39;00m\n\u001b[0;32m--> <a href='file:///c%3A/Users/Ifeoluwa/miniconda3/envs/dplpy3/lib/python3.8/site-packages/pandas/io/common.py?line=700'>701</a>\u001b[0m         handle \u001b[39m=\u001b[39m \u001b[39mopen\u001b[39;49m(\n\u001b[1;32m    <a href='file:///c%3A/Users/Ifeoluwa/miniconda3/envs/dplpy3/lib/python3.8/site-packages/pandas/io/common.py?line=701'>702</a>\u001b[0m             handle,\n\u001b[1;32m    <a href='file:///c%3A/Users/Ifeoluwa/miniconda3/envs/dplpy3/lib/python3.8/site-packages/pandas/io/common.py?line=702'>703</a>\u001b[0m             ioargs\u001b[39m.\u001b[39;49mmode,\n\u001b[1;32m    <a href='file:///c%3A/Users/Ifeoluwa/miniconda3/envs/dplpy3/lib/python3.8/site-packages/pandas/io/common.py?line=703'>704</a>\u001b[0m             encoding\u001b[39m=\u001b[39;49mioargs\u001b[39m.\u001b[39;49mencoding,\n\u001b[1;32m    <a href='file:///c%3A/Users/Ifeoluwa/miniconda3/envs/dplpy3/lib/python3.8/site-packages/pandas/io/common.py?line=704'>705</a>\u001b[0m             errors\u001b[39m=\u001b[39;49merrors,\n\u001b[1;32m    <a href='file:///c%3A/Users/Ifeoluwa/miniconda3/envs/dplpy3/lib/python3.8/site-packages/pandas/io/common.py?line=705'>706</a>\u001b[0m             newline\u001b[39m=\u001b[39;49m\u001b[39m\"\u001b[39;49m\u001b[39m\"\u001b[39;49m,\n\u001b[1;32m    <a href='file:///c%3A/Users/Ifeoluwa/miniconda3/envs/dplpy3/lib/python3.8/site-packages/pandas/io/common.py?line=706'>707</a>\u001b[0m         )\n\u001b[1;32m    <a href='file:///c%3A/Users/Ifeoluwa/miniconda3/envs/dplpy3/lib/python3.8/site-packages/pandas/io/common.py?line=707'>708</a>\u001b[0m     \u001b[39melse\u001b[39;00m:\n\u001b[1;32m    <a href='file:///c%3A/Users/Ifeoluwa/miniconda3/envs/dplpy3/lib/python3.8/site-packages/pandas/io/common.py?line=708'>709</a>\u001b[0m         \u001b[39m# Binary mode\u001b[39;00m\n\u001b[1;32m    <a href='file:///c%3A/Users/Ifeoluwa/miniconda3/envs/dplpy3/lib/python3.8/site-packages/pandas/io/common.py?line=709'>710</a>\u001b[0m         handle \u001b[39m=\u001b[39m \u001b[39mopen\u001b[39m(handle, ioargs\u001b[39m.\u001b[39mmode)\n",
      "\u001b[0;31mFileNotFoundError\u001b[0m: [Errno 2] No such file or directory: '../tests/csv/ca533.csv'"
     ]
    }
   ],
   "source": [
    "ca533 = dpl.readers(\"../tests/csv/ca533.csv\")"
   ]
  },
  {
   "cell_type": "code",
   "execution_count": 18,
   "metadata": {},
   "outputs": [
    {
     "name": "stdout",
     "output_type": "stream",
     "text": [
      "\n",
      "SUCCESS!\n",
      "File read as: .csv file\n",
      "\n"
     ]
    }
   ],
   "source": [
    "ca533 = dpl.readers(\"../tests/data/csv/ca533.csv\")"
   ]
  },
  {
   "cell_type": "code",
   "execution_count": 19,
   "metadata": {},
   "outputs": [],
   "source": [
    "dpl.detrend(ca533)"
   ]
  },
  {
   "cell_type": "code",
   "execution_count": 20,
   "metadata": {},
   "outputs": [],
   "source": [
    "import dplpy as dpl"
   ]
  },
  {
   "cell_type": "code",
   "execution_count": 21,
   "metadata": {},
   "outputs": [
    {
     "name": "stdout",
     "output_type": "stream",
     "text": [
      "\n",
      "SUCCESS!\n",
      "File read as: .csv file\n",
      "\n"
     ]
    }
   ],
   "source": [
    "ca533 = dpl.readers(\"../tests/data/csv/ca533.csv\")"
   ]
  },
  {
   "cell_type": "code",
   "execution_count": null,
   "metadata": {},
   "outputs": [],
   "source": [
    "dpl.detrend(ca533)"
   ]
  }
 ],
 "metadata": {
  "interpreter": {
   "hash": "48cf630a783942907124f8c247a0d2f9f03874603233912254d9de059d1b3448"
  },
  "kernelspec": {
   "display_name": "Python 3",
   "language": "python",
   "name": "python3"
  },
  "language_info": {
   "codemirror_mode": {
    "name": "ipython",
    "version": 3
   },
   "file_extension": ".py",
   "mimetype": "text/x-python",
   "name": "python",
   "nbconvert_exporter": "python",
   "pygments_lexer": "ipython3",
   "version": "3.8.12"
  },
  "orig_nbformat": 4
 },
 "nbformat": 4,
 "nbformat_minor": 2
}
