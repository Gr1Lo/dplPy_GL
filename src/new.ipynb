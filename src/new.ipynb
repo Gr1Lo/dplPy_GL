{
 "cells": [
  {
   "cell_type": "code",
   "execution_count": null,
   "metadata": {},
   "outputs": [],
   "source": [
    "import dplpy as dpl\n",
    "data = dpl.readers(\"../tests/data/rwl/ca533.rwl\")"
   ]
  },
  {
   "cell_type": "code",
   "execution_count": null,
   "metadata": {},
   "outputs": [],
   "source": [
    "dpl.stats(data)"
   ]
  }
 ],
 "metadata": {
  "interpreter": {
   "hash": "48cf630a783942907124f8c247a0d2f9f03874603233912254d9de059d1b3448"
  },
  "kernelspec": {
   "display_name": "Python 3",
   "language": "python",
   "name": "python3"
  },
  "orig_nbformat": 4
 },
 "nbformat": 4,
 "nbformat_minor": 2
}
